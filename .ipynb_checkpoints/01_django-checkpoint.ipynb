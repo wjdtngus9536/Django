{
 "cells": [
  {
   "cell_type": "markdown",
   "id": "aaf130ff",
   "metadata": {},
   "source": [
    "# 01_Django\n",
    "---"
   ]
  },
  {
   "cell_type": "markdown",
   "id": "19bf96e0",
   "metadata": {},
   "source": [
    "누가 만들어 놓은 코드를 재사용 하는 것은 익숙한 개발 문화  \n",
    "웹 서비스도 누군가 개발해 놓은 코드를 재사용하면 된다  \n",
    "반복적으로 만들어야 하는 내용을 모아놓은 것\n",
    "\n",
    "Framework 이해하기\n",
    "- 그러한 코드들을 모아 놓은 것, 즉 서비스 개발에 필요한 기능들을 미리 구현해서 모아 놓은 것 = 프레임 워크\n",
    "- Frame(뼈대, 틀) + work(일하다)\n",
    "    - 제공받은 도구들과 뼈대, 규약을 가지고 무언가를 만드는 일\n",
    "    - 특정 프로그램을 개발하기 위한 여러 도구들과 규약을 제공하는 것\n",
    "- 소프트웨어 프레임워크는 복잡한 문제를 해결하거나 서술하는 데 사용되는 기본 개념 구조 \n",
    "\n",
    "배워야 하는 이유\n",
    "- python으로 작성된 프레임워크\n",
    "    - python이라는 언어의 강력함과 거대한 커뮤니티\n",
    "    - 수많은 여러 유용한 기능들\n",
    "    - 검증된 웹 프레임워크\n",
    "        - 화해, 토스, 두나무, 당근마켓, 요기요 등\n",
    "        - 유명한 많은 서비스들이 사용한다는 것 == 안정적으로 서비스를 할 수 있다는 검증"
   ]
  },
  {
   "cell_type": "markdown",
   "id": "609d203d",
   "metadata": {},
   "source": [
    "## 2. Web 이해하기\n",
    "web이란? 월드 와이드 웹, 네트워크의 네트워크, 인터넷의 인터넷\n",
    "> 표준화된 프로토콜과 형식을 통해 정보와 통신을 교환할 수 있는 상호 연결된 컴퓨터 네트워크의 글로벌 시스템"
   ]
  },
  {
   "cell_type": "markdown",
   "id": "21dac39d",
   "metadata": {},
   "source": [
    "## 3. 클라이언트 - 서버 구조\n",
    "서비스는 요청(client)과 응답(Service provider - server, 서비스 제공자)으로 이루어져있다.\n",
    "\n",
    "- 클라이언트\n",
    "    - 웹 사용자의 인터넷에 연결된 장치\n",
    "    - Chrome 또는 Firefox 등의 웹 브라우저\n",
    "    - 서비스를 요청하는 주체\n",
    "    \n",
    "- 서버\n",
    "    - \n",
    "    \n",
    "    \n",
    "response headers"
   ]
  }
 ],
 "metadata": {
  "kernelspec": {
   "display_name": "Python 3 (ipykernel)",
   "language": "python",
   "name": "python3"
  },
  "language_info": {
   "codemirror_mode": {
    "name": "ipython",
    "version": 3
   },
   "file_extension": ".py",
   "mimetype": "text/x-python",
   "name": "python",
   "nbconvert_exporter": "python",
   "pygments_lexer": "ipython3",
   "version": "3.9.13"
  }
 },
 "nbformat": 4,
 "nbformat_minor": 5
}
